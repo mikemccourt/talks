{
 "cells": [
  {
   "cell_type": "markdown",
   "metadata": {},
   "source": [
    "# Some content for playing with Gaussian processes\n",
    "\n",
    "I have tried to show some of the basic Gaussian process computations, as well as how to use popular packages to conduct them."
   ]
  },
  {
   "cell_type": "code",
   "execution_count": 77,
   "metadata": {},
   "outputs": [],
   "source": [
    "import numpy as np\n",
    "from scipy.spatial.distance import cdist\n",
    "from scipy.linalg import cho_solve, cho_factor, solve_triangular\n",
    "import matplotlib.pyplot as plt\n",
    "%matplotlib inline"
   ]
  },
  {
   "cell_type": "markdown",
   "metadata": {},
   "source": [
    "$\\newcommand{\\kk}{\\mathbf{k}}\\newcommand{\\xx}{\\mathbf{x}}\\newcommand{\\yy}{\\mathbf{y}}\n",
    "\\newcommand{\\mK}{\\mathsf{K}}\\newcommand{\\mI}{\\mathsf{I}}\\newcommand{\\mD}{\\mathsf{D}}$\n",
    "\n",
    "First, it will help to create a Gaussian process object with some standard functions in it.\n",
    "\n",
    "We will assume certain properties about our Gaussian process:\n",
    "* It should have a zero mean\n",
    "* It should have a Gaussian covariance kernel\n",
    "* The Gaussian covariance should have individual length scales for each dimension\n",
    "* There is a fixed Gaussian uncertainty/noise associated with each observation (equivalent to a Tikhonov parameter)\n",
    "* There is a process variance which \n",
    "\n",
    "You can absolutely permit other properties (as discussed in my [textbook](https://www.worldscientific.com/worldscibooks/10.1142/9335)) but we are keeping it simple here for right now because this is enough to show something interesting.\n",
    "\n",
    "In general, I do not recommend putting this together yourself; I am only doing it here to show what some of the core computations look like.  You are certainly welcome to, but there are other pieces of software that you can use to do this -- and those libraries have been developed and tested by a number of experts.  Of course, if you are doing research on GPs, it may behoove you to have your own code to work with and manipulate.\n",
    "\n",
    "The two key computations taking place are\n",
    "\\begin{align}\n",
    "\\text{mean at $\\xx$} &= \\kk(\\xx)^\\top\\left(\\mK + \\sigma_o^2 \\mI_n\\right)^{-1}\\yy \\\\\n",
    "\\text{variance at $\\xx$} &= K(\\xx, \\xx) - \\kk(\\xx)^\\top\\left(\\mK + \\sigma_o^2 \\mI_n\\right)^{-1}\\kk(\\xx)\n",
    "\\end{align}\n",
    "\n",
    "where\n",
    "\n",
    "\\begin{align}\n",
    "K(\\xx, \\xx) = \\exp\\left(-\\xx^T\\mD^{-1}\\xx\\right),\\qquad\n",
    "\\kk(\\xx) = \\begin{pmatrix}K(\\xx, \\xx_1)\\\\\\vdots\\\\K(\\xx, \\xx_n)\\end{pmatrix},\\qquad\n",
    "\\mK = \\begin{pmatrix}&&\\\\\\kk(\\xx_1)&\\cdots&\\kk(\\xx_n)\\\\&&\\end{pmatrix},\n",
    "\\end{align}\n",
    "\n",
    "and $\\xx_i$ and $y_i$ are the $i$th $\\xx$ and $y$ values that have been observed ($\\xx$ is a $d$ dimensional vector)."
   ]
  },
  {
   "cell_type": "code",
   "execution_count": null,
   "metadata": {},
   "outputs": [],
   "source": []
  },
  {
   "cell_type": "code",
   "execution_count": 118,
   "metadata": {},
   "outputs": [],
   "source": [
    "class GaussianProcess(object):\n",
    "    def __init__(self, x, y, process_variance, length_scales, observation_noise):\n",
    "        length_scales = np.array(length_scales)\n",
    "        x = np.array(x)\n",
    "        y = np.array(y)\n",
    "        assert process_variance > 0 and observation_noise >= 0 and all(length_scales > 0)\n",
    "        assert len(x.shape) == 2 and len(y.shape) == 1 and len(length_scales) == x.shape[1] and x.shape[0] == len(y)\n",
    "        \n",
    "        self.x = x\n",
    "        self.y = y\n",
    "        self.length_scales = length_scales\n",
    "        self.process_variance = process_variance\n",
    "        self.observation_noise = observation_noise\n",
    "        \n",
    "        self._distance_matrix_weights = 1 / self.length_scales ** 2\n",
    "        self._interpolation_weights = None\n",
    "        self._K_chol = None\n",
    "        self._initialize()\n",
    "        \n",
    "    @property\n",
    "    def dim(self):\n",
    "        return self.x.shape[1]\n",
    "        \n",
    "    @property\n",
    "    def num_points(self):\n",
    "        return self.x.shape[0]\n",
    "        \n",
    "    def _initialize(self):\n",
    "        K = self.compute_covariance(self.x, self.x)\n",
    "        self._K_chol = cho_factor(K + np.eye(self.num_points) * self.observation_noise, lower=True, overwrite_a=True)\n",
    "        self._interpolation_weights = cho_solve(self._K_chol, self.y)\n",
    "    \n",
    "    def _distance_matrix_squared(self, x, z):\n",
    "        return cdist(x, z, w=self._distance_matrix_weights, metric='sqeuclidean')\n",
    "    \n",
    "    def compute_covariance(self, x, z):\n",
    "        r_squared = self._distance_matrix_squared(x, z)\n",
    "        return self.process_variance * np.exp(-r_squared)\n",
    "    \n",
    "    def posterior_mean(self, x):\n",
    "        K_eval = self.compute_covariance(x, self.x)\n",
    "        return np.dot(K_eval, self._interpolation_weights)\n",
    "    \n",
    "    def posterior_variance(self, x):\n",
    "        K_eval = self.compute_covariance(x, self.x)\n",
    "        symmetric_term = solve_triangular(self._K_chol[0], K_eval.T, lower=self._K_chol[1], overwrite_b=True)\n",
    "        schur_complement_term = np.sum(symmetric_term ** 2, axis=0)\n",
    "        return np.fmax(1e-20, self.process_variance - schur_complement_term)"
   ]
  },
  {
   "cell_type": "markdown",
   "metadata": {},
   "source": [
    "Choosing Gaussian process parameters (`process_variance`, `length_scales`, `observation_noise`) can be tricky.  This is often done with Maximum Likelihood Estimation, but we will just fix the values right now (rather than try to learn them).\n",
    "\n",
    "The problem below is an example function called the Franke function."
   ]
  },
  {
   "cell_type": "code",
   "execution_count": 113,
   "metadata": {},
   "outputs": [],
   "source": [
    "def yf(x):\n",
    "    x1, x2 = x.T\n",
    "    return (\n",
    "        .75 * np.exp(-.25 * ((9 * x1 - 2) ** 2 + (9 * x2 - 2) ** 2)) +\n",
    "        .75 * np.exp(-(9 * x1 + 1) ** 2 / 49 - (9 * x2 + 1) / 10) +\n",
    "        .5 * np.exp(-.25 * ((9 * x1 - 7) ** 2 + (9 * x2 - 3) ** 2)) -\n",
    "        .2 * np.exp(-(9 * x1 - 4) ** 2 - (9 * x2 - 7) ** 2)\n",
    "    )\n",
    "\n",
    "Np = (35, 34)\n",
    "X0, X1 = np.meshgrid(np.linspace(0, 1, Np[1]), np.linspace(0, 1, Np[0]))\n",
    "xp = np.array([X0.reshape(-1), X1.reshape(-1)]).T\n",
    "yp = yf(xp)\n",
    "Y = yp.reshape(Np)"
   ]
  },
  {
   "cell_type": "markdown",
   "metadata": {},
   "source": [
    "Now we try to fit a GP to randomly scattered data throughout the domain and see how it looks relative to the true function."
   ]
  },
  {
   "cell_type": "code",
   "execution_count": 128,
   "metadata": {},
   "outputs": [
    {
     "data": {
      "image/png": "[encoded data removed]",
      "text/plain": [
       "<Figure size 1008x288 with 4 Axes>"
      ]
     },
     "metadata": {
      "needs_background": "light"
     },
     "output_type": "display_data"
    }
   ],
   "source": [
    "x = np.random.random((40, 2))\n",
    "y = yf(x)\n",
    "\n",
    "process_variance = 1.0\n",
    "length_scales = [.3, .3]\n",
    "observation_noise = 1e-5\n",
    "gaussian_process = GaussianProcess(x, y, process_variance, length_scales, observation_noise)\n",
    "\n",
    "ym = gaussian_process.posterior_mean(xp)\n",
    "yv = gaussian_process.posterior_variance(xp)\n",
    "YM = ym.reshape(Np)\n",
    "YV = yv.reshape(Np)\n",
    "\n",
    "fig, axes = plt.subplots(1, 3, figsize=(14, 4))\n",
    "\n",
    "ax = axes[0]\n",
    "ax.contourf(X0, X1, Y, 20)\n",
    "ax.set_title('Franke function')\n",
    "\n",
    "ax = axes[1]\n",
    "ax.contourf(X0, X1, YM, 20, vmin=0.00114, vmax=1.22)\n",
    "ax.plot(x[:, 0], x[:, 1], 'or', alpha=.6)\n",
    "ax.set_title('GP Posterior Mean')\n",
    "\n",
    "ax = axes[2]\n",
    "h = ax.contourf(X0, X1, YV, 20, cmap='jet')\n",
    "ax.plot(x[:, 0], x[:, 1], 'ow', alpha=.6)\n",
    "ax.set_title('GP Posterior Variance')\n",
    "\n",
    "fig.colorbar(h);"
   ]
  },
  {
   "cell_type": "code",
   "execution_count": null,
   "metadata": {},
   "outputs": [],
   "source": []
  },
  {
   "cell_type": "code",
   "execution_count": null,
   "metadata": {},
   "outputs": [],
   "source": []
  },
  {
   "cell_type": "code",
   "execution_count": null,
   "metadata": {},
   "outputs": [],
   "source": []
  },
  {
   "cell_type": "code",
   "execution_count": null,
   "metadata": {},
   "outputs": [],
   "source": []
  },
  {
   "cell_type": "code",
   "execution_count": null,
   "metadata": {},
   "outputs": [],
   "source": []
  },
  {
   "cell_type": "code",
   "execution_count": null,
   "metadata": {},
   "outputs": [],
   "source": []
  },
  {
   "cell_type": "code",
   "execution_count": null,
   "metadata": {},
   "outputs": [],
   "source": []
  },
  {
   "cell_type": "code",
   "execution_count": null,
   "metadata": {},
   "outputs": [],
   "source": []
  },
  {
   "cell_type": "code",
   "execution_count": 31,
   "metadata": {
    "scrolled": true
   },
   "outputs": [
    {
     "data": {
      "text/plain": [
       "True"
      ]
     },
     "execution_count": 31,
     "metadata": {},
     "output_type": "execute_result"
    }
   ],
   "source": [
    "np.all(np.sqrt(cdist(a, b, metric='sqeuclidean')) == cdist(a, b))"
   ]
  },
  {
   "cell_type": "code",
   "execution_count": 38,
   "metadata": {},
   "outputs": [
    {
     "data": {
      "text/plain": [
       "True"
      ]
     },
     "execution_count": 38,
     "metadata": {},
     "output_type": "execute_result"
    }
   ],
   "source": [
    "np.linalg.norm(cdist(a, b, w = [1.0, 2.0]) - cdist(a * np.array([[1, np.sqrt(2)]]), b * np.array([[1, np.sqrt(2)]]))) < 1e-15"
   ]
  },
  {
   "cell_type": "code",
   "execution_count": 40,
   "metadata": {},
   "outputs": [
    {
     "data": {
      "text/plain": [
       "True"
      ]
     },
     "execution_count": 40,
     "metadata": {},
     "output_type": "execute_result"
    }
   ],
   "source": [
    "np.linalg.norm(cdist(a, b, w = [1.0 ** 2, 2.0 ** 2]) - cdist(a * np.array([[1, 2]]), b * np.array([[1, 2]]))) < 1e-15"
   ]
  },
  {
   "cell_type": "code",
   "execution_count": null,
   "metadata": {},
   "outputs": [],
   "source": []
  },
  {
   "cell_type": "code",
   "execution_count": null,
   "metadata": {},
   "outputs": [],
   "source": []
  }
 ],
 "metadata": {
  "kernelspec": {
   "display_name": "Python 3",
   "language": "python",
   "name": "python3"
  },
  "language_info": {
   "codemirror_mode": {
    "name": "ipython",
    "version": 3
   },
   "file_extension": ".py",
   "mimetype": "text/x-python",
   "name": "python",
   "nbconvert_exporter": "python",
   "pygments_lexer": "ipython3",
   "version": "3.7.9"
  }
 },
 "nbformat": 4,
 "nbformat_minor": 4
}
