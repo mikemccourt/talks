{
 "cells": [
  {
   "cell_type": "code",
   "execution_count": 8,
   "metadata": {},
   "outputs": [],
   "source": [
    "import numpy as np\n",
    "import time\n",
    "import matplotlib.pyplot as plt\n",
    "%matplotlib inline"
   ]
  },
  {
   "cell_type": "markdown",
   "metadata": {},
   "source": [
    "### Standard SigOpt config actions\n",
    "\n",
    "In general, I would say to use these commands to setup SigOpt -- this will enable the tracking functionality present in SigOpt.  After you have run `sigopt config` once (either here or at the command line) you will not need to again."
   ]
  },
  {
   "cell_type": "raw",
   "metadata": {},
   "source": [
    "import sigopt\n",
    "%load_ext sigopt\n",
    "%sigopt config"
   ]
  },
  {
   "cell_type": "markdown",
   "metadata": {},
   "source": [
    "### If you want to set things manually, this should be sufficient for our purposes\n",
    "\n",
    "You also can set these quantities from the command line outside of the notebook.  This assumes that I have already created a `mccourt-pydata-demo` project in SigOpt that I can report results to.  If this quantity is unset, it will revert to using the directory name as the project.\n",
    "\n",
    "If you want to change the project name or token, you will need to set the environment variable and then run `%reload sigopt`.\n",
    "\n",
    "In general, I do not recommend putting your token directly into files you are going to share.  Since I was going to be showing the token no matter what, I was not worried.  But I will be rolling this token immediately after this session (you can do so from the [API tokens page](https://app.sigopt.com/tokens/info)."
   ]
  },
  {
   "cell_type": "code",
   "execution_count": 3,
   "metadata": {},
   "outputs": [],
   "source": [
    "import os\n",
    "os.environ['SIGOPT_PROJECT'] = 'mccourt-pydata-demo'\n",
    "os.environ['SIGOPT_API_TOKEN'] = 'CTXVNRUMKZZIVPQDJWKVIZEWAPBKXXRGRLVDYQQKFUTGGVZM'  #  You must put your own token here\n",
    "import sigopt\n",
    "%load_ext sigopt"
   ]
  },
  {
   "cell_type": "markdown",
   "metadata": {},
   "source": [
    "Again, define a problem we want to optimize -- in this case, the same problem as before."
   ]
  },
  {
   "cell_type": "code",
   "execution_count": 6,
   "metadata": {},
   "outputs": [],
   "source": [
    "def yf(x):\n",
    "    x1, x2 = np.array(x).T\n",
    "    return (\n",
    "        .75 * np.exp(-.25 * ((9 * x1 - 2) ** 2 + (9 * x2 - 2) ** 2)) +\n",
    "        .75 * np.exp(-(9 * x1 + 1) ** 2 / 49 - (9 * x2 + 1) / 10) +\n",
    "        .5 * np.exp(-.25 * ((9 * x1 - 7) ** 2 + (9 * x2 - 3) ** 2)) -\n",
    "        .2 * np.exp(-(9 * x1 - 4) ** 2 - (9 * x2 - 7) ** 2)\n",
    "    )\n",
    "\n",
    "Np = (35, 34)\n",
    "X0, X1 = np.meshgrid(np.linspace(0, 1, Np[1]), np.linspace(0, 1, Np[0]))\n",
    "xp = np.array([X0.reshape(-1), X1.reshape(-1)]).T\n",
    "yp = yf(xp)\n",
    "Y = yp.reshape(Np)\n",
    "\n",
    "threshold = 0.85"
   ]
  },
  {
   "cell_type": "markdown",
   "metadata": {},
   "source": [
    "# Actual Bayesian optimization\n",
    "\n",
    "### I need to tell SigOpt what problem we want it to solve\n",
    "\n",
    "We do that with an Experiment Create call.  We can do this in the [direct format](https://docs.sigopt.com/experiments) (which is what I will be demonstrating today) or through the [command line](https://docs.sigopt.com/tutorial/experiment).\n",
    "\n",
    "After the experiment exists, we can view it on the SigOpt website and monitor the progress from there rather than having to do so from the notebook (or command line on 1 or more remote machines)."
   ]
  },
  {
   "cell_type": "code",
   "execution_count": 7,
   "metadata": {},
   "outputs": [
    {
     "name": "stdout",
     "output_type": "stream",
     "text": [
      "Experiment created, view it on the SigOpt dashboard at https://app.sigopt.com/experiment/517677\n"
     ]
    }
   ],
   "source": [
    "experiment = sigopt.create_experiment(\n",
    "    name=\"Franke function\",\n",
    "    parameters=[\n",
    "        dict(name=\"x1\", type=\"double\", bounds=dict(min=0, max=1)),\n",
    "        dict(name=\"x2\", type=\"double\", bounds=dict(min=0, max=1)),\n",
    "    ],\n",
    "    metrics=[dict(name=\"y\", objective=\"maximize\", strategy=\"optimize\")],\n",
    "    parallel_bandwidth=1,\n",
    "    budget=25,\n",
    ")"
   ]
  },
  {
   "cell_type": "markdown",
   "metadata": {},
   "source": [
    "### Now, I need to run the loop where I ask SigOpt what I should do and then tell SigOpt what happened\n",
    "\n",
    "In a real problem, you would have parameters and metrics that actually mean something (as is the case with all of the [SigOpt examples](https://github.com/sigopt/sigopt-examples) on GitHub).  But for now, I didn't see the point in making up names.\n",
    "\n",
    "We also added a `sleep` to simulate the real world and give us enough time to be able to monitor the experiment online.\n",
    "\n",
    "`experiment.loop` will run until the stated `budget` is exhausted.  For a sequential experiment, this is just a basic loop, but when many machines are operating asynchronously, this leverages SigOpt's organizational structure."
   ]
  },
  {
   "cell_type": "code",
   "execution_count": 9,
   "metadata": {
    "scrolled": true
   },
   "outputs": [
    {
     "name": "stdout",
     "output_type": "stream",
     "text": [
      "Run started, view it on the SigOpt dashboard at https://app.sigopt.com/run/288506\n",
      "Run finished, view it on the SigOpt dashboard at https://app.sigopt.com/run/288506\n",
      "Run started, view it on the SigOpt dashboard at https://app.sigopt.com/run/288507\n",
      "Run finished, view it on the SigOpt dashboard at https://app.sigopt.com/run/288507\n",
      "Run started, view it on the SigOpt dashboard at https://app.sigopt.com/run/288508\n",
      "Run finished, view it on the SigOpt dashboard at https://app.sigopt.com/run/288508\n",
      "Run started, view it on the SigOpt dashboard at https://app.sigopt.com/run/288509\n",
      "Run finished, view it on the SigOpt dashboard at https://app.sigopt.com/run/288509\n",
      "Run started, view it on the SigOpt dashboard at https://app.sigopt.com/run/288510\n",
      "Run finished, view it on the SigOpt dashboard at https://app.sigopt.com/run/288510\n",
      "Run started, view it on the SigOpt dashboard at https://app.sigopt.com/run/288511\n",
      "Run finished, view it on the SigOpt dashboard at https://app.sigopt.com/run/288511\n",
      "Run started, view it on the SigOpt dashboard at https://app.sigopt.com/run/288512\n",
      "Run finished, view it on the SigOpt dashboard at https://app.sigopt.com/run/288512\n",
      "Run started, view it on the SigOpt dashboard at https://app.sigopt.com/run/288513\n",
      "Run finished, view it on the SigOpt dashboard at https://app.sigopt.com/run/288513\n",
      "Run started, view it on the SigOpt dashboard at https://app.sigopt.com/run/288514\n",
      "Run finished, view it on the SigOpt dashboard at https://app.sigopt.com/run/288514\n",
      "Run started, view it on the SigOpt dashboard at https://app.sigopt.com/run/288516\n",
      "Run finished, view it on the SigOpt dashboard at https://app.sigopt.com/run/288516\n",
      "Run started, view it on the SigOpt dashboard at https://app.sigopt.com/run/288517\n",
      "Run finished, view it on the SigOpt dashboard at https://app.sigopt.com/run/288517\n",
      "Run started, view it on the SigOpt dashboard at https://app.sigopt.com/run/288518\n",
      "Run finished, view it on the SigOpt dashboard at https://app.sigopt.com/run/288518\n",
      "Run started, view it on the SigOpt dashboard at https://app.sigopt.com/run/288519\n",
      "Run finished, view it on the SigOpt dashboard at https://app.sigopt.com/run/288519\n",
      "Run started, view it on the SigOpt dashboard at https://app.sigopt.com/run/288520\n",
      "Run finished, view it on the SigOpt dashboard at https://app.sigopt.com/run/288520\n",
      "Run started, view it on the SigOpt dashboard at https://app.sigopt.com/run/288521\n",
      "Run finished, view it on the SigOpt dashboard at https://app.sigopt.com/run/288521\n",
      "Run started, view it on the SigOpt dashboard at https://app.sigopt.com/run/288522\n",
      "Run finished, view it on the SigOpt dashboard at https://app.sigopt.com/run/288522\n",
      "Run started, view it on the SigOpt dashboard at https://app.sigopt.com/run/288523\n",
      "Run finished, view it on the SigOpt dashboard at https://app.sigopt.com/run/288523\n",
      "Run started, view it on the SigOpt dashboard at https://app.sigopt.com/run/288524\n",
      "Run finished, view it on the SigOpt dashboard at https://app.sigopt.com/run/288524\n",
      "Run started, view it on the SigOpt dashboard at https://app.sigopt.com/run/288526\n",
      "Run finished, view it on the SigOpt dashboard at https://app.sigopt.com/run/288526\n",
      "Run started, view it on the SigOpt dashboard at https://app.sigopt.com/run/288527\n",
      "Run finished, view it on the SigOpt dashboard at https://app.sigopt.com/run/288527\n"
     ]
    }
   ],
   "source": [
    "for run in experiment.loop():\n",
    "    with run:\n",
    "        time.sleep(2)\n",
    "        y = yf([run.params.x1, run.params.x2])\n",
    "        run.log_metric(\"y\", y)"
   ]
  },
  {
   "cell_type": "markdown",
   "metadata": {},
   "source": [
    "### Now I pull all the data and plot the final result\n",
    "\n",
    "This is just to compare to the other stuff we ran before -- in general, I find it easier to do this basic analysis from the web.  And, of course, in a real situation we would not be able to generate a plot of the true function (or, likely, a plot at all for higher dimensional problems)."
   ]
  },
  {
   "cell_type": "code",
   "execution_count": 13,
   "metadata": {},
   "outputs": [],
   "source": [
    "all_runs = list(experiment.get_runs())"
   ]
  },
  {
   "cell_type": "code",
   "execution_count": 22,
   "metadata": {},
   "outputs": [
    {
     "data": {
      "image/png": "[encoded data removed]",
      "text/plain": [
       "<Figure size 360x360 with 1 Axes>"
      ]
     },
     "metadata": {
      "needs_background": "light"
     },
     "output_type": "display_data"
    }
   ],
   "source": [
    "x1 = []\n",
    "x2 = []\n",
    "y = []\n",
    "for run in all_runs:\n",
    "    x1.append(run.assignments['x1'])\n",
    "    x2.append(run.assignments['x2'])\n",
    "    y.append(run.values['y'].value)\n",
    "    \n",
    "fig, ax = plt.subplots(1, 1, figsize=(5, 5))\n",
    "\n",
    "ax.contourf(X0, X1, Y, 20)\n",
    "ax.set_title(f'Result of experiment {experiment.id}')\n",
    "ax.plot(x1, x2, 'ow');"
   ]
  },
  {
   "cell_type": "markdown",
   "metadata": {},
   "source": [
    "# Suppose we wanted to try to run a search experiment\n",
    "\n",
    "SigOpt has actually done some [new research](http://proceedings.mlr.press/v139/malkomes21a.html) on how to permit this for arbitrary problems without discretizing the domain.  To take advantage of that, we need to tell SigOpt the threshold that defines success for us.\n",
    "\n",
    "We do that at the Experiment Create phase, and then the rest of the stuff is all the same (since the function evaluation has not changed, just the goal of the sequential decision process)."
   ]
  },
  {
   "cell_type": "code",
   "execution_count": 23,
   "metadata": {},
   "outputs": [
    {
     "name": "stdout",
     "output_type": "stream",
     "text": [
      "Experiment created, view it on the SigOpt dashboard at https://app.sigopt.com/experiment/517681\n"
     ]
    }
   ],
   "source": [
    "experiment = sigopt.create_experiment(\n",
    "    name=\"Franke function -- search\",\n",
    "    parameters=[\n",
    "        dict(name=\"x1\", type=\"double\", bounds=dict(min=0, max=1)),\n",
    "        dict(name=\"x2\", type=\"double\", bounds=dict(min=0, max=1)),\n",
    "    ],\n",
    "    metrics=[dict(name=\"y\", objective=\"maximize\", strategy=\"constraint\", threshold=threshold)],\n",
    "    parallel_bandwidth=1,\n",
    "    budget=25,\n",
    ")"
   ]
  },
  {
   "cell_type": "code",
   "execution_count": 24,
   "metadata": {
    "scrolled": true
   },
   "outputs": [
    {
     "name": "stdout",
     "output_type": "stream",
     "text": [
      "Run started, view it on the SigOpt dashboard at https://app.sigopt.com/run/288560\n",
      "Run finished, view it on the SigOpt dashboard at https://app.sigopt.com/run/288560\n",
      "Run started, view it on the SigOpt dashboard at https://app.sigopt.com/run/288561\n",
      "Run finished, view it on the SigOpt dashboard at https://app.sigopt.com/run/288561\n",
      "Run started, view it on the SigOpt dashboard at https://app.sigopt.com/run/288562\n",
      "Run finished, view it on the SigOpt dashboard at https://app.sigopt.com/run/288562\n",
      "Run started, view it on the SigOpt dashboard at https://app.sigopt.com/run/288563\n",
      "Run finished, view it on the SigOpt dashboard at https://app.sigopt.com/run/288563\n",
      "Run started, view it on the SigOpt dashboard at https://app.sigopt.com/run/288564\n",
      "Run finished, view it on the SigOpt dashboard at https://app.sigopt.com/run/288564\n",
      "Run started, view it on the SigOpt dashboard at https://app.sigopt.com/run/288565\n",
      "Run finished, view it on the SigOpt dashboard at https://app.sigopt.com/run/288565\n",
      "Run started, view it on the SigOpt dashboard at https://app.sigopt.com/run/288566\n",
      "Run finished, view it on the SigOpt dashboard at https://app.sigopt.com/run/288566\n",
      "Run started, view it on the SigOpt dashboard at https://app.sigopt.com/run/288567\n",
      "Run finished, view it on the SigOpt dashboard at https://app.sigopt.com/run/288567\n",
      "Run started, view it on the SigOpt dashboard at https://app.sigopt.com/run/288568\n",
      "Run finished, view it on the SigOpt dashboard at https://app.sigopt.com/run/288568\n",
      "Run started, view it on the SigOpt dashboard at https://app.sigopt.com/run/288569\n",
      "Run finished, view it on the SigOpt dashboard at https://app.sigopt.com/run/288569\n",
      "Run started, view it on the SigOpt dashboard at https://app.sigopt.com/run/288570\n",
      "Run finished, view it on the SigOpt dashboard at https://app.sigopt.com/run/288570\n",
      "Run started, view it on the SigOpt dashboard at https://app.sigopt.com/run/288571\n",
      "Run finished, view it on the SigOpt dashboard at https://app.sigopt.com/run/288571\n",
      "Run started, view it on the SigOpt dashboard at https://app.sigopt.com/run/288572\n",
      "Run finished, view it on the SigOpt dashboard at https://app.sigopt.com/run/288572\n",
      "Run started, view it on the SigOpt dashboard at https://app.sigopt.com/run/288573\n",
      "Run finished, view it on the SigOpt dashboard at https://app.sigopt.com/run/288573\n",
      "Run started, view it on the SigOpt dashboard at https://app.sigopt.com/run/288574\n",
      "Run finished, view it on the SigOpt dashboard at https://app.sigopt.com/run/288574\n",
      "Run started, view it on the SigOpt dashboard at https://app.sigopt.com/run/288575\n",
      "Run finished, view it on the SigOpt dashboard at https://app.sigopt.com/run/288575\n",
      "Run started, view it on the SigOpt dashboard at https://app.sigopt.com/run/288576\n",
      "Run finished, view it on the SigOpt dashboard at https://app.sigopt.com/run/288576\n",
      "Run started, view it on the SigOpt dashboard at https://app.sigopt.com/run/288577\n",
      "Run finished, view it on the SigOpt dashboard at https://app.sigopt.com/run/288577\n",
      "Run started, view it on the SigOpt dashboard at https://app.sigopt.com/run/288578\n",
      "Run finished, view it on the SigOpt dashboard at https://app.sigopt.com/run/288578\n",
      "Run started, view it on the SigOpt dashboard at https://app.sigopt.com/run/288579\n",
      "Run finished, view it on the SigOpt dashboard at https://app.sigopt.com/run/288579\n",
      "Run started, view it on the SigOpt dashboard at https://app.sigopt.com/run/288580\n",
      "Run finished, view it on the SigOpt dashboard at https://app.sigopt.com/run/288580\n",
      "Run started, view it on the SigOpt dashboard at https://app.sigopt.com/run/288581\n",
      "Run finished, view it on the SigOpt dashboard at https://app.sigopt.com/run/288581\n",
      "Run started, view it on the SigOpt dashboard at https://app.sigopt.com/run/288582\n",
      "Run finished, view it on the SigOpt dashboard at https://app.sigopt.com/run/288582\n",
      "Run started, view it on the SigOpt dashboard at https://app.sigopt.com/run/288583\n",
      "Run finished, view it on the SigOpt dashboard at https://app.sigopt.com/run/288583\n",
      "Run started, view it on the SigOpt dashboard at https://app.sigopt.com/run/288584\n",
      "Run finished, view it on the SigOpt dashboard at https://app.sigopt.com/run/288584\n"
     ]
    }
   ],
   "source": [
    "for run in experiment.loop():\n",
    "    with run:\n",
    "        time.sleep(2)\n",
    "        y = yf([run.params.x1, run.params.x2])\n",
    "        run.log_metric(\"y\", y)"
   ]
  },
  {
   "cell_type": "code",
   "execution_count": 25,
   "metadata": {},
   "outputs": [],
   "source": [
    "all_runs = list(experiment.get_runs())"
   ]
  },
  {
   "cell_type": "code",
   "execution_count": 26,
   "metadata": {},
   "outputs": [
    {
     "data": {
      "image/png": "[encoded data removed]",
      "text/plain": [
       "<Figure size 360x360 with 1 Axes>"
      ]
     },
     "metadata": {
      "needs_background": "light"
     },
     "output_type": "display_data"
    }
   ],
   "source": [
    "x1 = []\n",
    "x2 = []\n",
    "y = []\n",
    "for run in all_runs:\n",
    "    x1.append(run.assignments['x1'])\n",
    "    x2.append(run.assignments['x2'])\n",
    "    y.append(run.values['y'].value)\n",
    "    \n",
    "fig, ax = plt.subplots(1, 1, figsize=(5, 5))\n",
    "\n",
    "ax.contourf(X0, X1, Y, 20)\n",
    "ax.set_title(f'Result of experiment {experiment.id}')\n",
    "ax.plot(x1, x2, 'ow');"
   ]
  },
  {
   "cell_type": "markdown",
   "metadata": {},
   "source": [
    "# We also can run optimization/search on 2 metrics\n",
    "\n",
    "Many real problems have many metrics that define success.  Our search algorithm has been tested to work on up to 6 metrics (though generally only 4 metrics are available to customers) -- this allows our users to find high performing outcomes under many different criteria all at once.  This is documented as the [All constraint](https://docs.sigopt.com/experiments/all_constraints) experiment type.\n",
    "\n",
    "To run an optimization on 2 metrics, we use our [Multimetric functionality](https://docs.sigopt.com/advanced_experimentation/multimetric_optimization).  In doing so, we search for the Pareto frontier (not the optimum of each metric).  We do not presently allow for optimizing more than 2 metrics (though research is ongoing).\n",
    "\n",
    "For this example, we create a second metric which is related to the first -- it is the distance from the true global maximum (which we found in a previous experiment).  Now we will be searching for the relationship between high metric values and distance to the true maximum.\n",
    "\n",
    "We give ourselves a little more budget to explore problems with more than one metric."
   ]
  },
  {
   "cell_type": "code",
   "execution_count": 47,
   "metadata": {},
   "outputs": [
    {
     "name": "stdout",
     "output_type": "stream",
     "text": [
      "Experiment created, view it on the SigOpt dashboard at https://app.sigopt.com/experiment/517687\n"
     ]
    }
   ],
   "source": [
    "experiment = sigopt.create_experiment(\n",
    "    name=\"Franke function -- 2 metric optimization\",\n",
    "    parameters=[\n",
    "        dict(name=\"x1\", type=\"double\", bounds=dict(min=0, max=1)),\n",
    "        dict(name=\"x2\", type=\"double\", bounds=dict(min=0, max=1)),\n",
    "    ],\n",
    "    metrics=[\n",
    "        dict(name=\"y\", objective=\"maximize\", strategy=\"optimize\"),\n",
    "        dict(name=\"distance from global max\", objective=\"maximize\", strategy=\"optimize\"),\n",
    "    ],\n",
    "    parallel_bandwidth=1,\n",
    "    budget=50,\n",
    ")"
   ]
  },
  {
   "cell_type": "code",
   "execution_count": 48,
   "metadata": {
    "scrolled": true
   },
   "outputs": [
    {
     "name": "stdout",
     "output_type": "stream",
     "text": [
      "Run started, view it on the SigOpt dashboard at https://app.sigopt.com/run/288771\n",
      "Run finished, view it on the SigOpt dashboard at https://app.sigopt.com/run/288771\n",
      "Run started, view it on the SigOpt dashboard at https://app.sigopt.com/run/288772\n",
      "Run finished, view it on the SigOpt dashboard at https://app.sigopt.com/run/288772\n",
      "Run started, view it on the SigOpt dashboard at https://app.sigopt.com/run/288773\n",
      "Run finished, view it on the SigOpt dashboard at https://app.sigopt.com/run/288773\n",
      "Run started, view it on the SigOpt dashboard at https://app.sigopt.com/run/288774\n",
      "Run finished, view it on the SigOpt dashboard at https://app.sigopt.com/run/288774\n",
      "Run started, view it on the SigOpt dashboard at https://app.sigopt.com/run/288775\n",
      "Run finished, view it on the SigOpt dashboard at https://app.sigopt.com/run/288775\n",
      "Run started, view it on the SigOpt dashboard at https://app.sigopt.com/run/288776\n",
      "Run finished, view it on the SigOpt dashboard at https://app.sigopt.com/run/288776\n",
      "Run started, view it on the SigOpt dashboard at https://app.sigopt.com/run/288777\n",
      "Run finished, view it on the SigOpt dashboard at https://app.sigopt.com/run/288777\n",
      "Run started, view it on the SigOpt dashboard at https://app.sigopt.com/run/288779\n",
      "Run finished, view it on the SigOpt dashboard at https://app.sigopt.com/run/288779\n",
      "Run started, view it on the SigOpt dashboard at https://app.sigopt.com/run/288780\n",
      "Run finished, view it on the SigOpt dashboard at https://app.sigopt.com/run/288780\n",
      "Run started, view it on the SigOpt dashboard at https://app.sigopt.com/run/288781\n",
      "Run finished, view it on the SigOpt dashboard at https://app.sigopt.com/run/288781\n",
      "Run started, view it on the SigOpt dashboard at https://app.sigopt.com/run/288782\n",
      "Run finished, view it on the SigOpt dashboard at https://app.sigopt.com/run/288782\n",
      "Run started, view it on the SigOpt dashboard at https://app.sigopt.com/run/288783\n",
      "Run finished, view it on the SigOpt dashboard at https://app.sigopt.com/run/288783\n",
      "Run started, view it on the SigOpt dashboard at https://app.sigopt.com/run/288784\n",
      "Run finished, view it on the SigOpt dashboard at https://app.sigopt.com/run/288784\n",
      "Run started, view it on the SigOpt dashboard at https://app.sigopt.com/run/288785\n",
      "Run finished, view it on the SigOpt dashboard at https://app.sigopt.com/run/288785\n",
      "Run started, view it on the SigOpt dashboard at https://app.sigopt.com/run/288786\n",
      "Run finished, view it on the SigOpt dashboard at https://app.sigopt.com/run/288786\n",
      "Run started, view it on the SigOpt dashboard at https://app.sigopt.com/run/288787\n",
      "Run finished, view it on the SigOpt dashboard at https://app.sigopt.com/run/288787\n",
      "Run started, view it on the SigOpt dashboard at https://app.sigopt.com/run/288788\n",
      "Run finished, view it on the SigOpt dashboard at https://app.sigopt.com/run/288788\n",
      "Run started, view it on the SigOpt dashboard at https://app.sigopt.com/run/288789\n",
      "Run finished, view it on the SigOpt dashboard at https://app.sigopt.com/run/288789\n",
      "Run started, view it on the SigOpt dashboard at https://app.sigopt.com/run/288790\n",
      "Run finished, view it on the SigOpt dashboard at https://app.sigopt.com/run/288790\n",
      "Run started, view it on the SigOpt dashboard at https://app.sigopt.com/run/288791\n",
      "Run finished, view it on the SigOpt dashboard at https://app.sigopt.com/run/288791\n",
      "Run started, view it on the SigOpt dashboard at https://app.sigopt.com/run/288792\n",
      "Run finished, view it on the SigOpt dashboard at https://app.sigopt.com/run/288792\n",
      "Run started, view it on the SigOpt dashboard at https://app.sigopt.com/run/288793\n",
      "Run finished, view it on the SigOpt dashboard at https://app.sigopt.com/run/288793\n",
      "Run started, view it on the SigOpt dashboard at https://app.sigopt.com/run/288794\n",
      "Run finished, view it on the SigOpt dashboard at https://app.sigopt.com/run/288794\n",
      "Run started, view it on the SigOpt dashboard at https://app.sigopt.com/run/288795\n",
      "Run finished, view it on the SigOpt dashboard at https://app.sigopt.com/run/288795\n",
      "Run started, view it on the SigOpt dashboard at https://app.sigopt.com/run/288796\n",
      "Run finished, view it on the SigOpt dashboard at https://app.sigopt.com/run/288796\n",
      "Run started, view it on the SigOpt dashboard at https://app.sigopt.com/run/288798\n",
      "Run finished, view it on the SigOpt dashboard at https://app.sigopt.com/run/288798\n",
      "Run started, view it on the SigOpt dashboard at https://app.sigopt.com/run/288799\n",
      "Run finished, view it on the SigOpt dashboard at https://app.sigopt.com/run/288799\n",
      "Run started, view it on the SigOpt dashboard at https://app.sigopt.com/run/288801\n",
      "Run finished, view it on the SigOpt dashboard at https://app.sigopt.com/run/288801\n",
      "Run started, view it on the SigOpt dashboard at https://app.sigopt.com/run/288803\n",
      "Run finished, view it on the SigOpt dashboard at https://app.sigopt.com/run/288803\n",
      "Run started, view it on the SigOpt dashboard at https://app.sigopt.com/run/288805\n",
      "Run finished, view it on the SigOpt dashboard at https://app.sigopt.com/run/288805\n",
      "Run started, view it on the SigOpt dashboard at https://app.sigopt.com/run/288807\n",
      "Run finished, view it on the SigOpt dashboard at https://app.sigopt.com/run/288807\n",
      "Run started, view it on the SigOpt dashboard at https://app.sigopt.com/run/288809\n",
      "Run finished, view it on the SigOpt dashboard at https://app.sigopt.com/run/288809\n",
      "Run started, view it on the SigOpt dashboard at https://app.sigopt.com/run/288810\n",
      "Run finished, view it on the SigOpt dashboard at https://app.sigopt.com/run/288810\n",
      "Run started, view it on the SigOpt dashboard at https://app.sigopt.com/run/288811\n",
      "Run finished, view it on the SigOpt dashboard at https://app.sigopt.com/run/288811\n",
      "Run started, view it on the SigOpt dashboard at https://app.sigopt.com/run/288812\n",
      "Run finished, view it on the SigOpt dashboard at https://app.sigopt.com/run/288812\n",
      "Run started, view it on the SigOpt dashboard at https://app.sigopt.com/run/288813\n",
      "Run finished, view it on the SigOpt dashboard at https://app.sigopt.com/run/288813\n",
      "Run started, view it on the SigOpt dashboard at https://app.sigopt.com/run/288814\n",
      "Run finished, view it on the SigOpt dashboard at https://app.sigopt.com/run/288814\n",
      "Run started, view it on the SigOpt dashboard at https://app.sigopt.com/run/288815\n",
      "Run finished, view it on the SigOpt dashboard at https://app.sigopt.com/run/288815\n",
      "Run started, view it on the SigOpt dashboard at https://app.sigopt.com/run/288816\n",
      "Run finished, view it on the SigOpt dashboard at https://app.sigopt.com/run/288816\n",
      "Run started, view it on the SigOpt dashboard at https://app.sigopt.com/run/288817\n",
      "Run finished, view it on the SigOpt dashboard at https://app.sigopt.com/run/288817\n",
      "Run started, view it on the SigOpt dashboard at https://app.sigopt.com/run/288818\n",
      "Run finished, view it on the SigOpt dashboard at https://app.sigopt.com/run/288818\n",
      "Run started, view it on the SigOpt dashboard at https://app.sigopt.com/run/288819\n",
      "Run finished, view it on the SigOpt dashboard at https://app.sigopt.com/run/288819\n",
      "Run started, view it on the SigOpt dashboard at https://app.sigopt.com/run/288820\n",
      "Run finished, view it on the SigOpt dashboard at https://app.sigopt.com/run/288820\n",
      "Run started, view it on the SigOpt dashboard at https://app.sigopt.com/run/288821\n",
      "Run finished, view it on the SigOpt dashboard at https://app.sigopt.com/run/288821\n",
      "Run started, view it on the SigOpt dashboard at https://app.sigopt.com/run/288822\n",
      "Run finished, view it on the SigOpt dashboard at https://app.sigopt.com/run/288822\n",
      "Run started, view it on the SigOpt dashboard at https://app.sigopt.com/run/288823\n",
      "Run finished, view it on the SigOpt dashboard at https://app.sigopt.com/run/288823\n",
      "Run started, view it on the SigOpt dashboard at https://app.sigopt.com/run/288824\n",
      "Run finished, view it on the SigOpt dashboard at https://app.sigopt.com/run/288824\n",
      "Run started, view it on the SigOpt dashboard at https://app.sigopt.com/run/288825\n",
      "Run finished, view it on the SigOpt dashboard at https://app.sigopt.com/run/288825\n",
      "Run started, view it on the SigOpt dashboard at https://app.sigopt.com/run/288826\n",
      "Run finished, view it on the SigOpt dashboard at https://app.sigopt.com/run/288826\n",
      "Run started, view it on the SigOpt dashboard at https://app.sigopt.com/run/288827\n",
      "Run finished, view it on the SigOpt dashboard at https://app.sigopt.com/run/288827\n"
     ]
    }
   ],
   "source": [
    "global_max_location = [.206, .206]\n",
    "\n",
    "for run in experiment.loop():\n",
    "    with run:\n",
    "        time.sleep(1.5)\n",
    "        x1 = run.params.x1\n",
    "        x2 = run.params.x2\n",
    "        y = yf([x1, x2])\n",
    "        distance_to_maximum = np.sqrt((x1 - global_max_location[0]) ** 2 + (x2 - global_max_location[1]) ** 2)\n",
    "        run.log_metric(\"y\", y)\n",
    "        run.log_metric(\"distance from global max\", distance_to_maximum)"
   ]
  },
  {
   "cell_type": "code",
   "execution_count": 49,
   "metadata": {},
   "outputs": [],
   "source": [
    "all_runs = list(experiment.get_runs())\n",
    "best_runs = list(experiment.get_best_runs())"
   ]
  },
  {
   "cell_type": "code",
   "execution_count": 50,
   "metadata": {},
   "outputs": [
    {
     "data": {
      "image/png": "[encoded data removed]",
      "text/plain": [
       "<Figure size 720x360 with 2 Axes>"
      ]
     },
     "metadata": {
      "needs_background": "light"
     },
     "output_type": "display_data"
    }
   ],
   "source": [
    "x1 = []\n",
    "x2 = []\n",
    "y = []\n",
    "dist = []\n",
    "for run in all_runs:\n",
    "    x1.append(run.assignments['x1'])\n",
    "    x2.append(run.assignments['x2'])\n",
    "    y.append(run.values['y'].value)\n",
    "    dist.append(run.values['distance from global max'].value)\n",
    "y_best = []\n",
    "dist_best = []\n",
    "for run in best_runs:\n",
    "    y_best.append(run.values['y'].value)\n",
    "    dist_best.append(run.values['distance from global max'].value)\n",
    "    \n",
    "fig, axes = plt.subplots(1, 2, figsize=(10, 5))\n",
    "\n",
    "ax = axes[0]\n",
    "ax.contourf(X0, X1, Y, 20)\n",
    "ax.set_title(f'Result of experiment {experiment.id}')\n",
    "ax.plot(x1, x2, 'ow')\n",
    "\n",
    "ax = axes[1]\n",
    "ax.set_title(f'Pareto frontier of experiment {experiment.id}')\n",
    "ax.plot(y, dist, '.b')\n",
    "ax.plot(y_best, dist_best, 'or')\n",
    "ax.set_xlabel('y')\n",
    "ax.set_ylabel('distance from max');"
   ]
  },
  {
   "cell_type": "markdown",
   "metadata": {},
   "source": [
    "# We can also enforce metric constraints on problems\n",
    "\n",
    "Often times, one or more metrics must meet certain performance standards while optimizing other metrics.  This can be accomplished with the same language as an [All constraints](https://docs.sigopt.com/experiments/all_constraints) experiment, but while still conducting optimization on at least one metric.  This is a [Metric constraints](https://docs.sigopt.com/advanced_experimentation/metric_constraints) style of experiment."
   ]
  },
  {
   "cell_type": "code",
   "execution_count": 51,
   "metadata": {},
   "outputs": [
    {
     "name": "stdout",
     "output_type": "stream",
     "text": [
      "Experiment created, view it on the SigOpt dashboard at https://app.sigopt.com/experiment/517688\n"
     ]
    }
   ],
   "source": [
    "min_distance_from_max = .3\n",
    "\n",
    "experiment = sigopt.create_experiment(\n",
    "    name=\"Franke function -- constrained optimization\",\n",
    "    parameters=[\n",
    "        dict(name=\"x1\", type=\"double\", bounds=dict(min=0, max=1)),\n",
    "        dict(name=\"x2\", type=\"double\", bounds=dict(min=0, max=1)),\n",
    "    ],\n",
    "    metrics=[\n",
    "        dict(name=\"y\", objective=\"maximize\", strategy=\"optimize\"),\n",
    "        dict(name=\"distance from global max\", objective=\"maximize\", strategy=\"constraint\", threshold=min_distance_from_max),\n",
    "    ],\n",
    "    parallel_bandwidth=1,\n",
    "    budget=25,\n",
    ")"
   ]
  },
  {
   "cell_type": "code",
   "execution_count": 52,
   "metadata": {
    "scrolled": true
   },
   "outputs": [
    {
     "name": "stdout",
     "output_type": "stream",
     "text": [
      "Run started, view it on the SigOpt dashboard at https://app.sigopt.com/run/288845\n",
      "Run finished, view it on the SigOpt dashboard at https://app.sigopt.com/run/288845\n",
      "Run started, view it on the SigOpt dashboard at https://app.sigopt.com/run/288846\n",
      "Run finished, view it on the SigOpt dashboard at https://app.sigopt.com/run/288846\n",
      "Run started, view it on the SigOpt dashboard at https://app.sigopt.com/run/288847\n",
      "Run finished, view it on the SigOpt dashboard at https://app.sigopt.com/run/288847\n",
      "Run started, view it on the SigOpt dashboard at https://app.sigopt.com/run/288848\n",
      "Run finished, view it on the SigOpt dashboard at https://app.sigopt.com/run/288848\n",
      "Run started, view it on the SigOpt dashboard at https://app.sigopt.com/run/288849\n",
      "Run finished, view it on the SigOpt dashboard at https://app.sigopt.com/run/288849\n",
      "Run started, view it on the SigOpt dashboard at https://app.sigopt.com/run/288850\n",
      "Run finished, view it on the SigOpt dashboard at https://app.sigopt.com/run/288850\n",
      "Run started, view it on the SigOpt dashboard at https://app.sigopt.com/run/288852\n",
      "Run finished, view it on the SigOpt dashboard at https://app.sigopt.com/run/288852\n",
      "Run started, view it on the SigOpt dashboard at https://app.sigopt.com/run/288853\n",
      "Run finished, view it on the SigOpt dashboard at https://app.sigopt.com/run/288853\n",
      "Run started, view it on the SigOpt dashboard at https://app.sigopt.com/run/288855\n",
      "Run finished, view it on the SigOpt dashboard at https://app.sigopt.com/run/288855\n",
      "Run started, view it on the SigOpt dashboard at https://app.sigopt.com/run/288857\n",
      "Run finished, view it on the SigOpt dashboard at https://app.sigopt.com/run/288857\n",
      "Run started, view it on the SigOpt dashboard at https://app.sigopt.com/run/288859\n",
      "Run finished, view it on the SigOpt dashboard at https://app.sigopt.com/run/288859\n",
      "Run started, view it on the SigOpt dashboard at https://app.sigopt.com/run/288861\n",
      "Run finished, view it on the SigOpt dashboard at https://app.sigopt.com/run/288861\n",
      "Run started, view it on the SigOpt dashboard at https://app.sigopt.com/run/288863\n",
      "Run finished, view it on the SigOpt dashboard at https://app.sigopt.com/run/288863\n",
      "Run started, view it on the SigOpt dashboard at https://app.sigopt.com/run/288864\n",
      "Run finished, view it on the SigOpt dashboard at https://app.sigopt.com/run/288864\n",
      "Run started, view it on the SigOpt dashboard at https://app.sigopt.com/run/288865\n",
      "Run finished, view it on the SigOpt dashboard at https://app.sigopt.com/run/288865\n",
      "Run started, view it on the SigOpt dashboard at https://app.sigopt.com/run/288866\n",
      "Run finished, view it on the SigOpt dashboard at https://app.sigopt.com/run/288866\n",
      "Run started, view it on the SigOpt dashboard at https://app.sigopt.com/run/288867\n",
      "Run finished, view it on the SigOpt dashboard at https://app.sigopt.com/run/288867\n",
      "Run started, view it on the SigOpt dashboard at https://app.sigopt.com/run/288868\n",
      "Run finished, view it on the SigOpt dashboard at https://app.sigopt.com/run/288868\n",
      "Run started, view it on the SigOpt dashboard at https://app.sigopt.com/run/288869\n",
      "Run finished, view it on the SigOpt dashboard at https://app.sigopt.com/run/288869\n",
      "Run started, view it on the SigOpt dashboard at https://app.sigopt.com/run/288870\n",
      "Run finished, view it on the SigOpt dashboard at https://app.sigopt.com/run/288870\n",
      "Run started, view it on the SigOpt dashboard at https://app.sigopt.com/run/288871\n",
      "Run finished, view it on the SigOpt dashboard at https://app.sigopt.com/run/288871\n",
      "Run started, view it on the SigOpt dashboard at https://app.sigopt.com/run/288872\n",
      "Run finished, view it on the SigOpt dashboard at https://app.sigopt.com/run/288872\n",
      "Run started, view it on the SigOpt dashboard at https://app.sigopt.com/run/288873\n",
      "Run finished, view it on the SigOpt dashboard at https://app.sigopt.com/run/288873\n",
      "Run started, view it on the SigOpt dashboard at https://app.sigopt.com/run/288874\n",
      "Run finished, view it on the SigOpt dashboard at https://app.sigopt.com/run/288874\n",
      "Run started, view it on the SigOpt dashboard at https://app.sigopt.com/run/288875\n",
      "Run finished, view it on the SigOpt dashboard at https://app.sigopt.com/run/288875\n"
     ]
    }
   ],
   "source": [
    "global_max_location = [.206, .206]\n",
    "\n",
    "for run in experiment.loop():\n",
    "    with run:\n",
    "        time.sleep(1.5)\n",
    "        x1 = run.params.x1\n",
    "        x2 = run.params.x2\n",
    "        y = yf([x1, x2])\n",
    "        distance_to_maximum = np.sqrt((x1 - global_max_location[0]) ** 2 + (x2 - global_max_location[1]) ** 2)\n",
    "        run.log_metric(\"y\", y)\n",
    "        run.log_metric(\"distance from global max\", distance_to_maximum)"
   ]
  },
  {
   "cell_type": "code",
   "execution_count": 53,
   "metadata": {},
   "outputs": [],
   "source": [
    "all_runs = list(experiment.get_runs())"
   ]
  },
  {
   "cell_type": "code",
   "execution_count": 57,
   "metadata": {},
   "outputs": [
    {
     "data": {
      "image/png": "[encoded data removed]",
      "text/plain": [
       "<Figure size 360x360 with 1 Axes>"
      ]
     },
     "metadata": {
      "needs_background": "light"
     },
     "output_type": "display_data"
    }
   ],
   "source": [
    "x1 = []\n",
    "x2 = []\n",
    "y = []\n",
    "for run in all_runs:\n",
    "    x1.append(run.assignments['x1'])\n",
    "    x2.append(run.assignments['x2'])\n",
    "    y.append(run.values['y'].value)\n",
    "    \n",
    "fig, ax = plt.subplots(1, 1, figsize=(5, 5))\n",
    "\n",
    "ax.contourf(X0, X1, Y, 20)\n",
    "ax.set_title(f'Result of experiment {experiment.id}')\n",
    "ax.plot(x1, x2, 'ow')\n",
    "t = np.linspace(-np.pi, np.pi, 200)\n",
    "ax.plot(.2 + min_distance_from_max * np.cos(t), .2 + min_distance_from_max * np.sin(t), '--r')\n",
    "ax.set_xlim((0, 1))\n",
    "ax.set_ylim((0, 1));"
   ]
  },
  {
   "cell_type": "markdown",
   "metadata": {},
   "source": [
    "### Parameter constraints can be enforced if they are linear and continuous\n",
    "\n",
    "[Parameter constraint docs](https://docs.sigopt.com/advanced_experimentation/parameter_constraints)\n",
    "\n",
    "### We also can allow failed observations, in the situation where no function value exists\n",
    "\n",
    "If there are parameters which cause the computation to fail (like divide by 0, or the neural network doesn't converge) you can report this as a failure to SigOpt.  "
   ]
  },
  {
   "cell_type": "code",
   "execution_count": null,
   "metadata": {},
   "outputs": [],
   "source": []
  }
 ],
 "metadata": {
  "kernelspec": {
   "display_name": "Python 3",
   "language": "python",
   "name": "python3"
  },
  "language_info": {
   "codemirror_mode": {
    "name": "ipython",
    "version": 3
   },
   "file_extension": ".py",
   "mimetype": "text/x-python",
   "name": "python",
   "nbconvert_exporter": "python",
   "pygments_lexer": "ipython3",
   "version": "3.7.9"
  }
 },
 "nbformat": 4,
 "nbformat_minor": 4
}
